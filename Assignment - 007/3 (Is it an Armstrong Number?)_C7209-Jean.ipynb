{
  "nbformat": 4,
  "nbformat_minor": 0,
  "metadata": {
    "colab": {
      "name": "Untitled5.ipynb",
      "provenance": [],
      "authorship_tag": "ABX9TyNq3vL8CLPIxKMHWOdp5J3o",
      "include_colab_link": true
    },
    "kernelspec": {
      "name": "python3",
      "display_name": "Python 3"
    }
  },
  "cells": [
    {
      "cell_type": "markdown",
      "metadata": {
        "id": "view-in-github",
        "colab_type": "text"
      },
      "source": [
        "<a href=\"https://colab.research.google.com/github/JeanValJaan/C7136-Mehmet/blob/main/Assignment%20-%20007/3%20(Is%20it%20an%20Armstrong%20Number%3F)_C7209-Jean.ipynb\" target=\"_parent\"><img src=\"https://colab.research.google.com/assets/colab-badge.svg\" alt=\"Open In Colab\"/></a>"
      ]
    },
    {
      "cell_type": "code",
      "metadata": {
        "id": "UCJw7_4Lt89E"
      },
      "source": [
        "number = input(\"Enter a positive integer in order to check if it is an armstrong number or not\")\r\n",
        "while not number.isdigit() > 0:\r\n",
        "    number = input(\" It is an invalid entry. Don't use non-numeric, float, or negative values! Enter a 'Positive integer in order to check if it is an armstron number or not\")\r\n",
        "index = 0\r\n",
        "sum = 0\r\n",
        "for i in number:\r\n",
        "    sum += int(number[index])**len(number)\r\n",
        "    index += 1\r\n",
        "if sum == int(number):\r\n",
        "    print(f\"{number} is armstrong number\")\r\n",
        "else:\r\n",
        "    print(f\"{number} is not armstrong number\")"
      ],
      "execution_count": null,
      "outputs": []
    }
  ]
}