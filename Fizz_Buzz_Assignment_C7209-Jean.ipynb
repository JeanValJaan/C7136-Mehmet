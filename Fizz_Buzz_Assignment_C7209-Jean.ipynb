{
  "nbformat": 4,
  "nbformat_minor": 0,
  "metadata": {
    "colab": {
      "name": "Untitled9.ipynb",
      "provenance": [],
      "authorship_tag": "ABX9TyNRanPsxUFBlpSSTpaisRjV",
      "include_colab_link": true
    },
    "kernelspec": {
      "name": "python3",
      "display_name": "Python 3"
    }
  },
  "cells": [
    {
      "cell_type": "markdown",
      "metadata": {
        "id": "view-in-github",
        "colab_type": "text"
      },
      "source": [
        "<a href=\"https://colab.research.google.com/github/JeanValJaan/C7136-Mehmet/blob/main/Fizz_Buzz_Assignment_C7209-Jean.ipynb\" target=\"_parent\"><img src=\"https://colab.research.google.com/assets/colab-badge.svg\" alt=\"Open In Colab\"/></a>"
      ]
    },
    {
      "cell_type": "code",
      "metadata": {
        "id": "mz_hiqNE5oEr"
      },
      "source": [
        "for i in range(1, 101):\r\n",
        "    if i % 3 == 0 and i % 5 == 0 :\r\n",
        "        print(\"Fizz Buzz\")\r\n",
        "    elif i % 3 == 0:\r\n",
        "        print(\"Fizz\")\r\n",
        "    elif i % 5 == 0:\r\n",
        "        print(\"Buzz\")\r\n",
        "    else:\r\n",
        "        print(i)"
      ],
      "execution_count": null,
      "outputs": []
    }
  ]
}